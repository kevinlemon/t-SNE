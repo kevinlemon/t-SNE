{
 "cells": [
  {
   "cell_type": "code",
   "execution_count": 13,
   "metadata": {},
   "outputs": [],
   "source": [
    "from sklearn import manifold\n",
    "import numpy as np\n",
    "import matplotlib.pyplot as plt\n",
    "\n",
    "def load_data():\n",
    "    data_1 = np.random.randn(100, 10)\n",
    "    label_1 = np.zeros((100, 1))\n",
    "    data_2 = 2 * np.random.randn(100, 10) + 2\n",
    "    label_2 = np.ones((100, 1))\n",
    "    \n",
    "    X = {}\n",
    "    X['data'] = np.zeros((200, 10))\n",
    "    X['data'][0:100, :] = data_1\n",
    "    X['data'][100:, :] = data_2\n",
    "    \n",
    "    X['label'] = np.zeros((200, 1))\n",
    "    X['label'][0:100, :] = label_1\n",
    "    X['label'][100:, :] = label_2\n",
    "    \n",
    "    return X\n",
    "\n",
    "def plot_embedding(X, digits, title=None):\n",
    "    x_min, x_max = np.min(X, 0), np.max(X, 0)\n",
    "    X = (X - x_min) / (x_max - x_min)\n",
    "\n",
    "    plt.figure()\n",
    "    colors = ['blue', 'red']\n",
    "    for i in range(2):\n",
    "        idx = np.where(digits['label'] == i)\n",
    "        plt.scatter(X[idx, 0], X[idx, 1], color=colors[i], label=str(i))\n",
    "    plt.legend(loc = 'lower right', fontsize=12)\n",
    "    plt.xticks([]), plt.yticks([])\n",
    "    if title is not None:\n",
    "        plt.title(title, fontsize=18)\n",
    "\n",
    "    \n",
    "def t_SNE(X):\n",
    "    tsne = manifold.TSNE(n_components=2, init='pca', random_state=0)\n",
    "    X_tsne = tsne.fit_transform(X['data'])\n",
    "    plot_embedding(X_tsne, X,\n",
    "                \"t-SNE\")\n",
    "    \n",
    "if __name__==\"__main__\":\n",
    "    X = load_data()\n",
    "    t_SNE(X)"
   ]
  }
 ],
 "metadata": {
  "kernelspec": {
   "display_name": "Python 3",
   "language": "python",
   "name": "python3"
  },
  "language_info": {
   "codemirror_mode": {
    "name": "ipython",
    "version": 3
   },
   "file_extension": ".py",
   "mimetype": "text/x-python",
   "name": "python",
   "nbconvert_exporter": "python",
   "pygments_lexer": "ipython3",
   "version": "3.6.1"
  }
 },
 "nbformat": 4,
 "nbformat_minor": 2
}
